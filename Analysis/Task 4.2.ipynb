{
 "cells": [
  {
   "cell_type": "markdown",
   "id": "64e27677",
   "metadata": {},
   "source": [
    "    # Import libraries"
   ]
  },
  {
   "cell_type": "code",
   "execution_count": 1,
   "id": "554edf5f",
   "metadata": {},
   "outputs": [],
   "source": [
    "# import libraries\n",
    "import numpy as np\n",
    "import pandas as pd\n",
    "import os"
   ]
  },
  {
   "cell_type": "code",
   "execution_count": 3,
   "id": "dc412744",
   "metadata": {},
   "outputs": [],
   "source": [
    "x = 50 "
   ]
  },
  {
   "cell_type": "code",
   "execution_count": 4,
   "id": "60785a88",
   "metadata": {},
   "outputs": [],
   "source": [
    "y = 50"
   ]
  },
  {
   "cell_type": "code",
   "execution_count": 5,
   "id": "008ae160",
   "metadata": {},
   "outputs": [
    {
     "data": {
      "text/plain": [
       "100"
      ]
     },
     "execution_count": 5,
     "metadata": {},
     "output_type": "execute_result"
    }
   ],
   "source": [
    "x + y"
   ]
  },
  {
   "cell_type": "code",
   "execution_count": 6,
   "id": "5f2fab95",
   "metadata": {},
   "outputs": [],
   "source": [
    "z = 150"
   ]
  },
  {
   "cell_type": "code",
   "execution_count": 7,
   "id": "38a53e4b",
   "metadata": {},
   "outputs": [
    {
     "data": {
      "text/plain": [
       "100"
      ]
     },
     "execution_count": 7,
     "metadata": {},
     "output_type": "execute_result"
    }
   ],
   "source": [
    "z - x"
   ]
  },
  {
   "cell_type": "code",
   "execution_count": 8,
   "id": "d9200f1d",
   "metadata": {},
   "outputs": [],
   "source": [
    "t= 25"
   ]
  },
  {
   "cell_type": "code",
   "execution_count": 9,
   "id": "90ff03ed",
   "metadata": {},
   "outputs": [],
   "source": [
    "j= 75"
   ]
  },
  {
   "cell_type": "code",
   "execution_count": 10,
   "id": "623c2213",
   "metadata": {},
   "outputs": [
    {
     "data": {
      "text/plain": [
       "100"
      ]
     },
     "execution_count": 10,
     "metadata": {},
     "output_type": "execute_result"
    }
   ],
   "source": [
    "t + j"
   ]
  },
  {
   "cell_type": "code",
   "execution_count": 11,
   "id": "ff21ec9c",
   "metadata": {},
   "outputs": [],
   "source": [
    "m = 5.7"
   ]
  },
  {
   "cell_type": "code",
   "execution_count": 12,
   "id": "c56f27b1",
   "metadata": {},
   "outputs": [],
   "source": [
    "n= 3.9"
   ]
  },
  {
   "cell_type": "code",
   "execution_count": 13,
   "id": "a80eb3ca",
   "metadata": {},
   "outputs": [
    {
     "data": {
      "text/plain": [
       "1.4615384615384617"
      ]
     },
     "execution_count": 13,
     "metadata": {},
     "output_type": "execute_result"
    }
   ],
   "source": [
    "m/n"
   ]
  },
  {
   "cell_type": "code",
   "execution_count": 14,
   "id": "5b3249d8",
   "metadata": {},
   "outputs": [],
   "source": [
    "s ='there'"
   ]
  },
  {
   "cell_type": "code",
   "execution_count": 15,
   "id": "ab7218d3",
   "metadata": {},
   "outputs": [],
   "source": [
    "r ='fore'"
   ]
  },
  {
   "cell_type": "code",
   "execution_count": 25,
   "id": "099143bc",
   "metadata": {},
   "outputs": [
    {
     "data": {
      "text/plain": [
       "'therefore'"
      ]
     },
     "execution_count": 25,
     "metadata": {},
     "output_type": "execute_result"
    }
   ],
   "source": [
    "s +r"
   ]
  },
  {
   "cell_type": "code",
   "execution_count": 27,
   "id": "82d2e23b",
   "metadata": {},
   "outputs": [],
   "source": [
    "k = 'I '"
   ]
  },
  {
   "cell_type": "code",
   "execution_count": 28,
   "id": "2904566d",
   "metadata": {},
   "outputs": [],
   "source": [
    "l = 'will be '"
   ]
  },
  {
   "cell_type": "code",
   "execution_count": 29,
   "id": "ad8384cf",
   "metadata": {},
   "outputs": [],
   "source": [
    "h = 'a data analyst'"
   ]
  },
  {
   "cell_type": "code",
   "execution_count": 30,
   "id": "1450c935",
   "metadata": {},
   "outputs": [
    {
     "data": {
      "text/plain": [
       "'I will be a data analyst'"
      ]
     },
     "execution_count": 30,
     "metadata": {},
     "output_type": "execute_result"
    }
   ],
   "source": [
    "k + l + h"
   ]
  },
  {
   "cell_type": "code",
   "execution_count": 31,
   "id": "06bc8373",
   "metadata": {},
   "outputs": [],
   "source": [
    "g = 'I enjoy '"
   ]
  },
  {
   "cell_type": "code",
   "execution_count": 32,
   "id": "15be5393",
   "metadata": {},
   "outputs": [],
   "source": [
    "d= 'analysing data'"
   ]
  },
  {
   "cell_type": "code",
   "execution_count": 33,
   "id": "c44b0800",
   "metadata": {},
   "outputs": [
    {
     "data": {
      "text/plain": [
       "'I enjoy analysing data'"
      ]
     },
     "execution_count": 33,
     "metadata": {},
     "output_type": "execute_result"
    }
   ],
   "source": [
    "g + d"
   ]
  },
  {
   "cell_type": "code",
   "execution_count": null,
   "id": "7ff3036e",
   "metadata": {},
   "outputs": [],
   "source": []
  }
 ],
 "metadata": {
  "kernelspec": {
   "display_name": "Python 3 (ipykernel)",
   "language": "python",
   "name": "python3"
  },
  "language_info": {
   "codemirror_mode": {
    "name": "ipython",
    "version": 3
   },
   "file_extension": ".py",
   "mimetype": "text/x-python",
   "name": "python",
   "nbconvert_exporter": "python",
   "pygments_lexer": "ipython3",
   "version": "3.9.13"
  }
 },
 "nbformat": 4,
 "nbformat_minor": 5
}
