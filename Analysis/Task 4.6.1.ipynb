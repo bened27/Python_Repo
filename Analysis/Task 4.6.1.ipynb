{
 "cells": [
  {
   "cell_type": "code",
   "execution_count": 1,
   "id": "e06a6c8e",
   "metadata": {},
   "outputs": [],
   "source": [
    "import pandas as pd\n",
    "import numpy as np\n",
    "import os"
   ]
  },
  {
   "cell_type": "markdown",
   "id": "edd6e367",
   "metadata": {},
   "source": [
    "Question 3: import the orders_products_combined dataframe from the pickle file"
   ]
  },
  {
   "cell_type": "code",
   "execution_count": 2,
   "id": "821860d3",
   "metadata": {},
   "outputs": [],
   "source": [
    "my_path = r'C:\\Users\\nkasb\\Documents\\Instacart Basket Analysis'"
   ]
  },
  {
   "cell_type": "code",
   "execution_count": 3,
   "id": "1dc83f00",
   "metadata": {},
   "outputs": [],
   "source": [
    "df_prods = pd.read_csv(os.path.join(my_path, '2. Data', 'Prepared Data', 'products_clean_final.csv'), index_col = False)"
   ]
  },
  {
   "cell_type": "code",
   "execution_count": 4,
   "id": "978cc172",
   "metadata": {},
   "outputs": [
    {
     "data": {
      "text/html": [
       "<div>\n",
       "<style scoped>\n",
       "    .dataframe tbody tr th:only-of-type {\n",
       "        vertical-align: middle;\n",
       "    }\n",
       "\n",
       "    .dataframe tbody tr th {\n",
       "        vertical-align: top;\n",
       "    }\n",
       "\n",
       "    .dataframe thead th {\n",
       "        text-align: right;\n",
       "    }\n",
       "</style>\n",
       "<table border=\"1\" class=\"dataframe\">\n",
       "  <thead>\n",
       "    <tr style=\"text-align: right;\">\n",
       "      <th></th>\n",
       "      <th>Unnamed: 0</th>\n",
       "      <th>product_id</th>\n",
       "      <th>aisle_id</th>\n",
       "      <th>department_id</th>\n",
       "      <th>prices</th>\n",
       "    </tr>\n",
       "  </thead>\n",
       "  <tbody>\n",
       "    <tr>\n",
       "      <th>count</th>\n",
       "      <td>49693.0000</td>\n",
       "      <td>49693.000000</td>\n",
       "      <td>49693.000000</td>\n",
       "      <td>49693.000000</td>\n",
       "      <td>49693.000000</td>\n",
       "    </tr>\n",
       "    <tr>\n",
       "      <th>mean</th>\n",
       "      <td>24846.0000</td>\n",
       "      <td>24844.345139</td>\n",
       "      <td>67.770249</td>\n",
       "      <td>11.728433</td>\n",
       "      <td>9.994136</td>\n",
       "    </tr>\n",
       "    <tr>\n",
       "      <th>std</th>\n",
       "      <td>14345.2778</td>\n",
       "      <td>14343.717401</td>\n",
       "      <td>38.316774</td>\n",
       "      <td>5.850282</td>\n",
       "      <td>453.519686</td>\n",
       "    </tr>\n",
       "    <tr>\n",
       "      <th>min</th>\n",
       "      <td>0.0000</td>\n",
       "      <td>1.000000</td>\n",
       "      <td>1.000000</td>\n",
       "      <td>1.000000</td>\n",
       "      <td>1.000000</td>\n",
       "    </tr>\n",
       "    <tr>\n",
       "      <th>25%</th>\n",
       "      <td>12423.0000</td>\n",
       "      <td>12423.000000</td>\n",
       "      <td>35.000000</td>\n",
       "      <td>7.000000</td>\n",
       "      <td>4.100000</td>\n",
       "    </tr>\n",
       "    <tr>\n",
       "      <th>50%</th>\n",
       "      <td>24846.0000</td>\n",
       "      <td>24845.000000</td>\n",
       "      <td>69.000000</td>\n",
       "      <td>13.000000</td>\n",
       "      <td>7.100000</td>\n",
       "    </tr>\n",
       "    <tr>\n",
       "      <th>75%</th>\n",
       "      <td>37269.0000</td>\n",
       "      <td>37265.000000</td>\n",
       "      <td>100.000000</td>\n",
       "      <td>17.000000</td>\n",
       "      <td>11.200000</td>\n",
       "    </tr>\n",
       "    <tr>\n",
       "      <th>max</th>\n",
       "      <td>49692.0000</td>\n",
       "      <td>49688.000000</td>\n",
       "      <td>134.000000</td>\n",
       "      <td>21.000000</td>\n",
       "      <td>99999.000000</td>\n",
       "    </tr>\n",
       "  </tbody>\n",
       "</table>\n",
       "</div>"
      ],
      "text/plain": [
       "       Unnamed: 0    product_id      aisle_id  department_id        prices\n",
       "count  49693.0000  49693.000000  49693.000000   49693.000000  49693.000000\n",
       "mean   24846.0000  24844.345139     67.770249      11.728433      9.994136\n",
       "std    14345.2778  14343.717401     38.316774       5.850282    453.519686\n",
       "min        0.0000      1.000000      1.000000       1.000000      1.000000\n",
       "25%    12423.0000  12423.000000     35.000000       7.000000      4.100000\n",
       "50%    24846.0000  24845.000000     69.000000      13.000000      7.100000\n",
       "75%    37269.0000  37265.000000    100.000000      17.000000     11.200000\n",
       "max    49692.0000  49688.000000    134.000000      21.000000  99999.000000"
      ]
     },
     "execution_count": 4,
     "metadata": {},
     "output_type": "execute_result"
    }
   ],
   "source": [
    "df_prods.describe()"
   ]
  },
  {
   "cell_type": "code",
   "execution_count": 7,
   "id": "f63888f7",
   "metadata": {},
   "outputs": [],
   "source": [
    "df_orders_products_combined = pd.read_pickle(os.path.join(my_path, '2. Data', 'Prepared Data', 'orders_products_combined.pkl'))"
   ]
  },
  {
   "cell_type": "code",
   "execution_count": 8,
   "id": "fdbefd00",
   "metadata": {},
   "outputs": [
    {
     "data": {
      "text/html": [
       "<div>\n",
       "<style scoped>\n",
       "    .dataframe tbody tr th:only-of-type {\n",
       "        vertical-align: middle;\n",
       "    }\n",
       "\n",
       "    .dataframe tbody tr th {\n",
       "        vertical-align: top;\n",
       "    }\n",
       "\n",
       "    .dataframe thead th {\n",
       "        text-align: right;\n",
       "    }\n",
       "</style>\n",
       "<table border=\"1\" class=\"dataframe\">\n",
       "  <thead>\n",
       "    <tr style=\"text-align: right;\">\n",
       "      <th></th>\n",
       "      <th>Unnamed: 0</th>\n",
       "      <th>Unnamed: 0.1</th>\n",
       "      <th>order_id</th>\n",
       "      <th>user_id</th>\n",
       "      <th>order_number</th>\n",
       "      <th>orders_day_of_week</th>\n",
       "      <th>order_hour_of_day</th>\n",
       "      <th>days_since_prior_order</th>\n",
       "      <th>product_id</th>\n",
       "      <th>add_to_cart_order</th>\n",
       "      <th>reordered</th>\n",
       "    </tr>\n",
       "  </thead>\n",
       "  <tbody>\n",
       "    <tr>\n",
       "      <th>count</th>\n",
       "      <td>3.264070e+07</td>\n",
       "      <td>3.264070e+07</td>\n",
       "      <td>3.264070e+07</td>\n",
       "      <td>3.264070e+07</td>\n",
       "      <td>3.264070e+07</td>\n",
       "      <td>3.264070e+07</td>\n",
       "      <td>3.264070e+07</td>\n",
       "      <td>3.264070e+07</td>\n",
       "      <td>3.243449e+07</td>\n",
       "      <td>3.243449e+07</td>\n",
       "      <td>3.243449e+07</td>\n",
       "    </tr>\n",
       "    <tr>\n",
       "      <th>mean</th>\n",
       "      <td>1.709876e+06</td>\n",
       "      <td>1.709876e+06</td>\n",
       "      <td>1.710719e+06</td>\n",
       "      <td>1.029383e+05</td>\n",
       "      <td>1.713856e+01</td>\n",
       "      <td>2.739040e+00</td>\n",
       "      <td>1.342599e+01</td>\n",
       "      <td>1.043477e+01</td>\n",
       "      <td>2.557634e+04</td>\n",
       "      <td>8.351076e+00</td>\n",
       "      <td>5.896975e-01</td>\n",
       "    </tr>\n",
       "    <tr>\n",
       "      <th>std</th>\n",
       "      <td>9.864701e+05</td>\n",
       "      <td>9.864701e+05</td>\n",
       "      <td>9.873085e+05</td>\n",
       "      <td>5.946686e+04</td>\n",
       "      <td>1.752967e+01</td>\n",
       "      <td>2.090265e+00</td>\n",
       "      <td>4.246227e+00</td>\n",
       "      <td>8.945477e+00</td>\n",
       "      <td>1.409669e+04</td>\n",
       "      <td>7.126671e+00</td>\n",
       "      <td>4.918886e-01</td>\n",
       "    </tr>\n",
       "    <tr>\n",
       "      <th>min</th>\n",
       "      <td>0.000000e+00</td>\n",
       "      <td>0.000000e+00</td>\n",
       "      <td>1.000000e+00</td>\n",
       "      <td>1.000000e+00</td>\n",
       "      <td>1.000000e+00</td>\n",
       "      <td>0.000000e+00</td>\n",
       "      <td>0.000000e+00</td>\n",
       "      <td>0.000000e+00</td>\n",
       "      <td>1.000000e+00</td>\n",
       "      <td>1.000000e+00</td>\n",
       "      <td>0.000000e+00</td>\n",
       "    </tr>\n",
       "    <tr>\n",
       "      <th>25%</th>\n",
       "      <td>8.556322e+05</td>\n",
       "      <td>8.556322e+05</td>\n",
       "      <td>8.558860e+05</td>\n",
       "      <td>5.142200e+04</td>\n",
       "      <td>5.000000e+00</td>\n",
       "      <td>1.000000e+00</td>\n",
       "      <td>1.000000e+01</td>\n",
       "      <td>4.000000e+00</td>\n",
       "      <td>1.353000e+04</td>\n",
       "      <td>3.000000e+00</td>\n",
       "      <td>0.000000e+00</td>\n",
       "    </tr>\n",
       "    <tr>\n",
       "      <th>50%</th>\n",
       "      <td>1.709181e+06</td>\n",
       "      <td>1.709181e+06</td>\n",
       "      <td>1.710984e+06</td>\n",
       "      <td>1.026160e+05</td>\n",
       "      <td>1.100000e+01</td>\n",
       "      <td>3.000000e+00</td>\n",
       "      <td>1.300000e+01</td>\n",
       "      <td>7.000000e+00</td>\n",
       "      <td>2.525600e+04</td>\n",
       "      <td>6.000000e+00</td>\n",
       "      <td>1.000000e+00</td>\n",
       "    </tr>\n",
       "    <tr>\n",
       "      <th>75%</th>\n",
       "      <td>2.565971e+06</td>\n",
       "      <td>2.565971e+06</td>\n",
       "      <td>2.565490e+06</td>\n",
       "      <td>1.543940e+05</td>\n",
       "      <td>2.400000e+01</td>\n",
       "      <td>5.000000e+00</td>\n",
       "      <td>1.600000e+01</td>\n",
       "      <td>1.400000e+01</td>\n",
       "      <td>3.793500e+04</td>\n",
       "      <td>1.100000e+01</td>\n",
       "      <td>1.000000e+00</td>\n",
       "    </tr>\n",
       "    <tr>\n",
       "      <th>max</th>\n",
       "      <td>3.421082e+06</td>\n",
       "      <td>3.421082e+06</td>\n",
       "      <td>3.421083e+06</td>\n",
       "      <td>2.062090e+05</td>\n",
       "      <td>1.000000e+02</td>\n",
       "      <td>6.000000e+00</td>\n",
       "      <td>2.300000e+01</td>\n",
       "      <td>3.000000e+01</td>\n",
       "      <td>4.968800e+04</td>\n",
       "      <td>1.450000e+02</td>\n",
       "      <td>1.000000e+00</td>\n",
       "    </tr>\n",
       "  </tbody>\n",
       "</table>\n",
       "</div>"
      ],
      "text/plain": [
       "         Unnamed: 0  Unnamed: 0.1      order_id       user_id  order_number  \\\n",
       "count  3.264070e+07  3.264070e+07  3.264070e+07  3.264070e+07  3.264070e+07   \n",
       "mean   1.709876e+06  1.709876e+06  1.710719e+06  1.029383e+05  1.713856e+01   \n",
       "std    9.864701e+05  9.864701e+05  9.873085e+05  5.946686e+04  1.752967e+01   \n",
       "min    0.000000e+00  0.000000e+00  1.000000e+00  1.000000e+00  1.000000e+00   \n",
       "25%    8.556322e+05  8.556322e+05  8.558860e+05  5.142200e+04  5.000000e+00   \n",
       "50%    1.709181e+06  1.709181e+06  1.710984e+06  1.026160e+05  1.100000e+01   \n",
       "75%    2.565971e+06  2.565971e+06  2.565490e+06  1.543940e+05  2.400000e+01   \n",
       "max    3.421082e+06  3.421082e+06  3.421083e+06  2.062090e+05  1.000000e+02   \n",
       "\n",
       "       orders_day_of_week  order_hour_of_day  days_since_prior_order  \\\n",
       "count        3.264070e+07       3.264070e+07            3.264070e+07   \n",
       "mean         2.739040e+00       1.342599e+01            1.043477e+01   \n",
       "std          2.090265e+00       4.246227e+00            8.945477e+00   \n",
       "min          0.000000e+00       0.000000e+00            0.000000e+00   \n",
       "25%          1.000000e+00       1.000000e+01            4.000000e+00   \n",
       "50%          3.000000e+00       1.300000e+01            7.000000e+00   \n",
       "75%          5.000000e+00       1.600000e+01            1.400000e+01   \n",
       "max          6.000000e+00       2.300000e+01            3.000000e+01   \n",
       "\n",
       "         product_id  add_to_cart_order     reordered  \n",
       "count  3.243449e+07       3.243449e+07  3.243449e+07  \n",
       "mean   2.557634e+04       8.351076e+00  5.896975e-01  \n",
       "std    1.409669e+04       7.126671e+00  4.918886e-01  \n",
       "min    1.000000e+00       1.000000e+00  0.000000e+00  \n",
       "25%    1.353000e+04       3.000000e+00  0.000000e+00  \n",
       "50%    2.525600e+04       6.000000e+00  1.000000e+00  \n",
       "75%    3.793500e+04       1.100000e+01  1.000000e+00  \n",
       "max    4.968800e+04       1.450000e+02  1.000000e+00  "
      ]
     },
     "execution_count": 8,
     "metadata": {},
     "output_type": "execute_result"
    }
   ],
   "source": [
    "df_orders_products_combined.describe()"
   ]
  },
  {
   "cell_type": "markdown",
   "id": "223705d5",
   "metadata": {},
   "source": [
    "Question 4: Check the shape of the imported dataframe "
   ]
  },
  {
   "cell_type": "code",
   "execution_count": 9,
   "id": "a402a869",
   "metadata": {},
   "outputs": [
    {
     "data": {
      "text/plain": [
       "(32640698, 13)"
      ]
     },
     "execution_count": 9,
     "metadata": {},
     "output_type": "execute_result"
    }
   ],
   "source": [
    "df_orders_products_combined.shape"
   ]
  },
  {
   "cell_type": "markdown",
   "id": "ebb0279f",
   "metadata": {},
   "source": [
    "Question 5: combine the orders_products_combined dataframe with your products data set"
   ]
  },
  {
   "cell_type": "code",
   "execution_count": 10,
   "id": "76832212",
   "metadata": {},
   "outputs": [],
   "source": [
    "df_orders_products_merged = df_prods.merge(df_orders_products_combined, on = 'product_id', how= 'outer')"
   ]
  },
  {
   "cell_type": "markdown",
   "id": "9c0a4e67",
   "metadata": {},
   "source": [
    "Question 6: Confirm the results of the merge using the merge flag"
   ]
  },
  {
   "cell_type": "code",
   "execution_count": 11,
   "id": "df3801aa",
   "metadata": {},
   "outputs": [
    {
     "data": {
      "text/plain": [
       "(32642461, 18)"
      ]
     },
     "execution_count": 11,
     "metadata": {},
     "output_type": "execute_result"
    }
   ],
   "source": [
    "df_orders_products_merged.shape"
   ]
  },
  {
   "cell_type": "code",
   "execution_count": 12,
   "id": "e017ad2a",
   "metadata": {
    "scrolled": true
   },
   "outputs": [
    {
     "data": {
      "text/plain": [
       "both          32436241\n",
       "left_only       206209\n",
       "right_only           0\n",
       "Name: _merge, dtype: int64"
      ]
     },
     "execution_count": 12,
     "metadata": {},
     "output_type": "execute_result"
    }
   ],
   "source": [
    "df_orders_products_merged['_merge'].value_counts()"
   ]
  },
  {
   "cell_type": "markdown",
   "id": "96ee7e2c",
   "metadata": {},
   "source": [
    "Question 7: Export the newly created dataframe as orders_products_merged in a suitable format"
   ]
  },
  {
   "cell_type": "code",
   "execution_count": 13,
   "id": "6f33b814",
   "metadata": {},
   "outputs": [],
   "source": [
    "df_orders_products_merged.to_pickle(os.path.join(my_path, '2. Data','Prepared Data', 'orders_products_merged.pkl'))"
   ]
  },
  {
   "cell_type": "code",
   "execution_count": null,
   "id": "6dd24cd8",
   "metadata": {},
   "outputs": [],
   "source": []
  }
 ],
 "metadata": {
  "kernelspec": {
   "display_name": "Python 3 (ipykernel)",
   "language": "python",
   "name": "python3"
  },
  "language_info": {
   "codemirror_mode": {
    "name": "ipython",
    "version": 3
   },
   "file_extension": ".py",
   "mimetype": "text/x-python",
   "name": "python",
   "nbconvert_exporter": "python",
   "pygments_lexer": "ipython3",
   "version": "3.9.13"
  }
 },
 "nbformat": 4,
 "nbformat_minor": 5
}
